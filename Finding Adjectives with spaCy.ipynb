{
 "cells": [
  {
   "cell_type": "code",
   "execution_count": 27,
   "metadata": {},
   "outputs": [],
   "source": [
    "import spacy\n",
    "import pandas as pd\n",
    "pd.options.mode.chained_assignment = None\n",
    "nlp = spacy.load(\"en_core_web_lg\")"
   ]
  },
  {
   "cell_type": "code",
   "execution_count": 28,
   "metadata": {},
   "outputs": [],
   "source": [
    "def get_pos(str_to_tag, nlp):\n",
    "    #Inputs:\n",
    "    #str_to_tag: string to tag\n",
    "    #nlp: spacy NLP model\n",
    "\n",
    "    #Returns:\n",
    "    #a Pandas data frame where each row is a token found by the spaCy tokenizer.\n",
    "    #Columns are: text: the text associated with the token; lemma: the morpheme; pos: broad part of speech, \n",
    "    # tag: the narrow part of speech tag (Penn tree bank)  \n",
    "    doc = nlp(str_to_tag)\n",
    "    return(pd.DataFrame([{'text':token.text, 'lemma':token.lemma_, 'pos':token.pos_, 'tag':\n",
    "          token.tag_} for token in doc]))"
   ]
  },
  {
   "cell_type": "code",
   "execution_count": 29,
   "metadata": {},
   "outputs": [
    {
     "data": {
      "text/html": [
       "<div>\n",
       "<style scoped>\n",
       "    .dataframe tbody tr th:only-of-type {\n",
       "        vertical-align: middle;\n",
       "    }\n",
       "\n",
       "    .dataframe tbody tr th {\n",
       "        vertical-align: top;\n",
       "    }\n",
       "\n",
       "    .dataframe thead th {\n",
       "        text-align: right;\n",
       "    }\n",
       "</style>\n",
       "<table border=\"1\" class=\"dataframe\">\n",
       "  <thead>\n",
       "    <tr style=\"text-align: right;\">\n",
       "      <th></th>\n",
       "      <th>lemma</th>\n",
       "      <th>pos</th>\n",
       "      <th>tag</th>\n",
       "      <th>text</th>\n",
       "    </tr>\n",
       "  </thead>\n",
       "  <tbody>\n",
       "    <tr>\n",
       "      <th>0</th>\n",
       "      <td>what</td>\n",
       "      <td>PRON</td>\n",
       "      <td>WP</td>\n",
       "      <td>what</td>\n",
       "    </tr>\n",
       "    <tr>\n",
       "      <th>1</th>\n",
       "      <td>do</td>\n",
       "      <td>AUX</td>\n",
       "      <td>VBD</td>\n",
       "      <td>did</td>\n",
       "    </tr>\n",
       "    <tr>\n",
       "      <th>2</th>\n",
       "      <td>the</td>\n",
       "      <td>DET</td>\n",
       "      <td>DT</td>\n",
       "      <td>the</td>\n",
       "    </tr>\n",
       "    <tr>\n",
       "      <th>3</th>\n",
       "      <td>angry</td>\n",
       "      <td>ADJ</td>\n",
       "      <td>JJ</td>\n",
       "      <td>angry</td>\n",
       "    </tr>\n",
       "    <tr>\n",
       "      <th>4</th>\n",
       "      <td>bus</td>\n",
       "      <td>NOUN</td>\n",
       "      <td>NN</td>\n",
       "      <td>bus</td>\n",
       "    </tr>\n",
       "    <tr>\n",
       "      <th>5</th>\n",
       "      <td>driver</td>\n",
       "      <td>NOUN</td>\n",
       "      <td>NN</td>\n",
       "      <td>driver</td>\n",
       "    </tr>\n",
       "    <tr>\n",
       "      <th>6</th>\n",
       "      <td>say</td>\n",
       "      <td>VERB</td>\n",
       "      <td>VB</td>\n",
       "      <td>say</td>\n",
       "    </tr>\n",
       "    <tr>\n",
       "      <th>7</th>\n",
       "      <td>?</td>\n",
       "      <td>PUNCT</td>\n",
       "      <td>.</td>\n",
       "      <td>?</td>\n",
       "    </tr>\n",
       "  </tbody>\n",
       "</table>\n",
       "</div>"
      ],
      "text/plain": [
       "    lemma    pos  tag    text\n",
       "0    what   PRON   WP    what\n",
       "1      do    AUX  VBD     did\n",
       "2     the    DET   DT     the\n",
       "3   angry    ADJ   JJ   angry\n",
       "4     bus   NOUN   NN     bus\n",
       "5  driver   NOUN   NN  driver\n",
       "6     say   VERB   VB     say\n",
       "7       ?  PUNCT    .       ?"
      ]
     },
     "execution_count": 29,
     "metadata": {},
     "output_type": "execute_result"
    }
   ],
   "source": [
    "get_pos('what did the angry bus driver say?', nlp)"
   ]
  },
  {
   "cell_type": "code",
   "execution_count": 32,
   "metadata": {},
   "outputs": [],
   "source": [
    "# finding adjectives in a CSV of utterances\n",
    "utterances = pd.read_csv('providence_long_utts.csv')\n",
    "\n",
    "adjectives = []\n",
    "for utterance in utterances.to_dict('records')[1:10]:\n",
    "    tagged_utterance = get_pos(utterance['text'], nlp)\n",
    "    adjs_in_utterance = tagged_utterance[tagged_utterance.tag == 'JJ'] \n",
    "        #could be more than one adjective in each utterance\n",
    "    adjs_in_utterance['utterance'] = utterance['text'] # \"propagate metadata\"\n",
    "    adjs_in_utterance['utterance_id'] = utterance['id']\n",
    "    adjectives.append(adjs_in_utterance)\n",
    "\n",
    "adjectives_df = pd.concat(adjectives)\n",
    "adjectives_df.to_csv('found_adjectives.csv', index=False)\t"
   ]
  }
 ],
 "metadata": {
  "kernelspec": {
   "display_name": "Python 3",
   "language": "python",
   "name": "python3"
  },
  "language_info": {
   "codemirror_mode": {
    "name": "ipython",
    "version": 3
   },
   "file_extension": ".py",
   "mimetype": "text/x-python",
   "name": "python",
   "nbconvert_exporter": "python",
   "pygments_lexer": "ipython3",
   "version": "3.5.2"
  }
 },
 "nbformat": 4,
 "nbformat_minor": 2
}
